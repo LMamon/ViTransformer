{
 "cells": [
  {
   "cell_type": "code",
   "execution_count": 2,
   "metadata": {
    "execution": {
     "iopub.execute_input": "2024-11-20T03:20:56.187540Z",
     "iopub.status.busy": "2024-11-20T03:20:56.186756Z",
     "iopub.status.idle": "2024-11-20T03:21:07.451246Z",
     "shell.execute_reply": "2024-11-20T03:21:07.449935Z",
     "shell.execute_reply.started": "2024-11-20T03:20:56.187502Z"
    },
    "trusted": true
   },
   "outputs": [
    {
     "name": "stdout",
     "output_type": "stream",
     "text": [
      "Requirement already satisfied: torch in /opt/conda/lib/python3.10/site-packages (2.4.0+cpu)\n",
      "Requirement already satisfied: torchvision in /opt/conda/lib/python3.10/site-packages (0.19.0+cpu)\n",
      "Requirement already satisfied: timm in /opt/conda/lib/python3.10/site-packages (1.0.9)\n",
      "Requirement already satisfied: matplotlib in /opt/conda/lib/python3.10/site-packages (3.7.5)\n",
      "Requirement already satisfied: filelock in /opt/conda/lib/python3.10/site-packages (from torch) (3.15.1)\n",
      "Requirement already satisfied: typing-extensions>=4.8.0 in /opt/conda/lib/python3.10/site-packages (from torch) (4.12.2)\n",
      "Requirement already satisfied: sympy in /opt/conda/lib/python3.10/site-packages (from torch) (1.12)\n",
      "Requirement already satisfied: networkx in /opt/conda/lib/python3.10/site-packages (from torch) (3.3)\n",
      "Requirement already satisfied: jinja2 in /opt/conda/lib/python3.10/site-packages (from torch) (3.1.4)\n",
      "Requirement already satisfied: fsspec in /opt/conda/lib/python3.10/site-packages (from torch) (2024.6.1)\n",
      "Requirement already satisfied: numpy in /opt/conda/lib/python3.10/site-packages (from torchvision) (1.26.4)\n",
      "Requirement already satisfied: pillow!=8.3.*,>=5.3.0 in /opt/conda/lib/python3.10/site-packages (from torchvision) (10.3.0)\n",
      "Requirement already satisfied: pyyaml in /opt/conda/lib/python3.10/site-packages (from timm) (6.0.2)\n",
      "Requirement already satisfied: huggingface_hub in /opt/conda/lib/python3.10/site-packages (from timm) (0.25.1)\n",
      "Requirement already satisfied: safetensors in /opt/conda/lib/python3.10/site-packages (from timm) (0.4.5)\n",
      "Requirement already satisfied: contourpy>=1.0.1 in /opt/conda/lib/python3.10/site-packages (from matplotlib) (1.2.1)\n",
      "Requirement already satisfied: cycler>=0.10 in /opt/conda/lib/python3.10/site-packages (from matplotlib) (0.12.1)\n",
      "Requirement already satisfied: fonttools>=4.22.0 in /opt/conda/lib/python3.10/site-packages (from matplotlib) (4.53.0)\n",
      "Requirement already satisfied: kiwisolver>=1.0.1 in /opt/conda/lib/python3.10/site-packages (from matplotlib) (1.4.5)\n",
      "Requirement already satisfied: packaging>=20.0 in /opt/conda/lib/python3.10/site-packages (from matplotlib) (21.3)\n",
      "Requirement already satisfied: pyparsing>=2.3.1 in /opt/conda/lib/python3.10/site-packages (from matplotlib) (3.1.2)\n",
      "Requirement already satisfied: python-dateutil>=2.7 in /opt/conda/lib/python3.10/site-packages (from matplotlib) (2.9.0.post0)\n",
      "Requirement already satisfied: six>=1.5 in /opt/conda/lib/python3.10/site-packages (from python-dateutil>=2.7->matplotlib) (1.16.0)\n",
      "Requirement already satisfied: requests in /opt/conda/lib/python3.10/site-packages (from huggingface_hub->timm) (2.32.3)\n",
      "Requirement already satisfied: tqdm>=4.42.1 in /opt/conda/lib/python3.10/site-packages (from huggingface_hub->timm) (4.66.4)\n",
      "Requirement already satisfied: MarkupSafe>=2.0 in /opt/conda/lib/python3.10/site-packages (from jinja2->torch) (2.1.5)\n",
      "Requirement already satisfied: mpmath>=0.19 in /opt/conda/lib/python3.10/site-packages (from sympy->torch) (1.3.0)\n",
      "Requirement already satisfied: charset-normalizer<4,>=2 in /opt/conda/lib/python3.10/site-packages (from requests->huggingface_hub->timm) (3.3.2)\n",
      "Requirement already satisfied: idna<4,>=2.5 in /opt/conda/lib/python3.10/site-packages (from requests->huggingface_hub->timm) (3.7)\n",
      "Requirement already satisfied: urllib3<3,>=1.21.1 in /opt/conda/lib/python3.10/site-packages (from requests->huggingface_hub->timm) (1.26.18)\n",
      "Requirement already satisfied: certifi>=2017.4.17 in /opt/conda/lib/python3.10/site-packages (from requests->huggingface_hub->timm) (2024.8.30)\n"
     ]
    }
   ],
   "source": [
    "!pip install torch torchvision timm matplotlib"
   ]
  },
  {
   "cell_type": "code",
   "execution_count": 3,
   "metadata": {
    "execution": {
     "iopub.execute_input": "2024-11-20T03:21:07.453835Z",
     "iopub.status.busy": "2024-11-20T03:21:07.453455Z",
     "iopub.status.idle": "2024-11-20T03:21:15.146087Z",
     "shell.execute_reply": "2024-11-20T03:21:15.144950Z",
     "shell.execute_reply.started": "2024-11-20T03:21:07.453797Z"
    },
    "trusted": true
   },
   "outputs": [],
   "source": [
    "import torch\n",
    "import torch.nn as nn\n",
    "import torchvision.transforms as transforms\n",
    "import torchvision.datasets as datasets\n",
    "import torch.optim as optim\n",
    "from torch.utils.data import DataLoader\n",
    "from torch.utils.data import random_split\n",
    "import timm\n",
    "import time\n",
    "from datetime import datetime\n",
    "import matplotlib.pyplot as plt\n",
    "import pandas as pd"
   ]
  },
  {
   "cell_type": "code",
   "execution_count": 4,
   "metadata": {
    "execution": {
     "iopub.execute_input": "2024-11-20T03:21:19.565091Z",
     "iopub.status.busy": "2024-11-20T03:21:19.564439Z",
     "iopub.status.idle": "2024-11-20T03:21:19.570400Z",
     "shell.execute_reply": "2024-11-20T03:21:19.569227Z",
     "shell.execute_reply.started": "2024-11-20T03:21:19.565048Z"
    },
    "trusted": true
   },
   "outputs": [],
   "source": [
    "#hyperparameters and configs\n",
    "BATCH_SIZE = 64\n",
    "LR = 1e-4\n",
    "N_EPOCHS =10\n",
    "NUM_CLASSES =10"
   ]
  },
  {
   "cell_type": "code",
   "execution_count": 5,
   "metadata": {
    "execution": {
     "iopub.execute_input": "2024-11-20T03:21:23.023571Z",
     "iopub.status.busy": "2024-11-20T03:21:23.023182Z",
     "iopub.status.idle": "2024-11-20T03:21:23.031460Z",
     "shell.execute_reply": "2024-11-20T03:21:23.030344Z",
     "shell.execute_reply.started": "2024-11-20T03:21:23.023536Z"
    },
    "trusted": true
   },
   "outputs": [],
   "source": [
    "# data transformations\n",
    "transform = transforms.Compose([\n",
    "    transforms.Resize((224,224)), #original data is 32x32\n",
    "    transforms.ToTensor(), # making the data \"numbers\"\n",
    "    transforms.Normalize(mean=[0.485, 0.456, 0.406], std=[0.229, 0.224, 0.225])\n",
    "])\n",
    "\n",
    "#load CIFAR-10 dataset\n",
    "transform_train = transforms.Compose([\n",
    "    transforms.Resize((224,224)),\n",
    "    transforms.RandomHorizontalFlip(),\n",
    "    transforms.RandomRotation(10),\n",
    "    transforms.ToTensor(),\n",
    "    transforms.Normalize((0.485, 0.456, 0.406), (0.229, 0.224, 0.225))\n",
    "     ])\n",
    "\n",
    "transform_val = transforms.Compose([\n",
    "    transforms.Resize((224,224)),\n",
    "    transforms.ToTensor(),\n",
    "    transforms.Normalize((0.485, 0.456, 0.406), (0.229, 0.224, 0.225))\n",
    "    ])"
   ]
  },
  {
   "cell_type": "code",
   "execution_count": 15,
   "metadata": {
    "execution": {
     "iopub.execute_input": "2024-11-20T03:37:48.025561Z",
     "iopub.status.busy": "2024-11-20T03:37:48.024529Z",
     "iopub.status.idle": "2024-11-20T03:37:56.749966Z",
     "shell.execute_reply": "2024-11-20T03:37:56.748832Z",
     "shell.execute_reply.started": "2024-11-20T03:37:48.025522Z"
    },
    "trusted": true
   },
   "outputs": [
    {
     "name": "stdout",
     "output_type": "stream",
     "text": [
      "Downloading https://www.cs.toronto.edu/~kriz/cifar-10-python.tar.gz to ./data/cifar-10-python.tar.gz\n"
     ]
    },
    {
     "name": "stderr",
     "output_type": "stream",
     "text": [
      "100%|██████████| 170498071/170498071 [00:03<00:00, 46497879.55it/s]\n"
     ]
    },
    {
     "name": "stdout",
     "output_type": "stream",
     "text": [
      "Extracting ./data/cifar-10-python.tar.gz to ./data\n",
      "Files already downloaded and verified\n",
      "Files already downloaded and verified\n"
     ]
    }
   ],
   "source": [
    "dataset = datasets.CIFAR10(root='./data',\n",
    "train =True,\n",
    "download=True,\n",
    "transform=transform)\n",
    "\n",
    "\n",
    "train_dataset = datasets.CIFAR10(root='./data',\n",
    "train =True,\n",
    "download=True,\n",
    "transform=transform_train)\n",
    "\n",
    "val_dataset = datasets.CIFAR10(root='./data',\n",
    "train =False,\n",
    "download=True,\n",
    "transform=transform_val)"
   ]
  },
  {
   "cell_type": "code",
   "execution_count": 16,
   "metadata": {
    "execution": {
     "iopub.execute_input": "2024-11-20T03:37:59.036027Z",
     "iopub.status.busy": "2024-11-20T03:37:59.035587Z",
     "iopub.status.idle": "2024-11-20T03:37:59.044755Z",
     "shell.execute_reply": "2024-11-20T03:37:59.043655Z",
     "shell.execute_reply.started": "2024-11-20T03:37:59.035992Z"
    },
    "trusted": true
   },
   "outputs": [
    {
     "data": {
      "text/plain": [
       "Dataset CIFAR10\n",
       "    Number of datapoints: 50000\n",
       "    Root location: ./data\n",
       "    Split: Train\n",
       "    StandardTransform\n",
       "Transform: Compose(\n",
       "               Resize(size=(224, 224), interpolation=bilinear, max_size=None, antialias=True)\n",
       "               RandomHorizontalFlip(p=0.5)\n",
       "               RandomRotation(degrees=[-10.0, 10.0], interpolation=nearest, expand=False, fill=0)\n",
       "               ToTensor()\n",
       "               Normalize(mean=(0.485, 0.456, 0.406), std=(0.229, 0.224, 0.225))\n",
       "           )"
      ]
     },
     "execution_count": 16,
     "metadata": {},
     "output_type": "execute_result"
    }
   ],
   "source": [
    "train_dataset"
   ]
  },
  {
   "cell_type": "code",
   "execution_count": 17,
   "metadata": {
    "execution": {
     "iopub.execute_input": "2024-11-20T03:38:04.129782Z",
     "iopub.status.busy": "2024-11-20T03:38:04.128821Z",
     "iopub.status.idle": "2024-11-20T03:38:04.162493Z",
     "shell.execute_reply": "2024-11-20T03:38:04.161309Z",
     "shell.execute_reply.started": "2024-11-20T03:38:04.129740Z"
    },
    "trusted": true
   },
   "outputs": [],
   "source": [
    "train_size = int(0.8 * len(dataset))\n",
    "val_size = len(dataset) - train_size\n",
    "train_dataset, val_dataset = torch.utils.data.random_split(dataset, [train_size, val_size])"
   ]
  },
  {
   "cell_type": "code",
   "execution_count": 18,
   "metadata": {
    "execution": {
     "iopub.execute_input": "2024-11-20T03:38:08.164213Z",
     "iopub.status.busy": "2024-11-20T03:38:08.163803Z",
     "iopub.status.idle": "2024-11-20T03:38:08.170180Z",
     "shell.execute_reply": "2024-11-20T03:38:08.168960Z",
     "shell.execute_reply.started": "2024-11-20T03:38:08.164182Z"
    },
    "trusted": true
   },
   "outputs": [],
   "source": [
    "#data loaders\n",
    "train_loader = DataLoader(train_dataset, batch_size=64, shuffle=True, num_workers=4)\n",
    "val_loader= DataLoader(val_dataset, batch_size=64, shuffle=False, num_workers=4)"
   ]
  },
  {
   "cell_type": "code",
   "execution_count": 19,
   "metadata": {
    "execution": {
     "iopub.execute_input": "2024-11-20T03:38:12.403486Z",
     "iopub.status.busy": "2024-11-20T03:38:12.403092Z",
     "iopub.status.idle": "2024-11-20T03:38:12.409433Z",
     "shell.execute_reply": "2024-11-20T03:38:12.408148Z",
     "shell.execute_reply.started": "2024-11-20T03:38:12.403453Z"
    },
    "trusted": true
   },
   "outputs": [],
   "source": [
    "class ViTModel(nn.Module):\n",
    "  def __init__(self, num_classes):\n",
    "    super(ViTModel, self).__init__()\n",
    "    self.model = timm.create_model('vit_base_patch16_224', pretrained=True)\n",
    "    self.model.head = nn.Linear(self.model.head.in_features,num_classes)\n",
    "\n",
    "  def forward(self, x):\n",
    "    return self.model(x)"
   ]
  },
  {
   "cell_type": "code",
   "execution_count": 20,
   "metadata": {
    "execution": {
     "iopub.execute_input": "2024-11-20T03:38:14.367390Z",
     "iopub.status.busy": "2024-11-20T03:38:14.366989Z",
     "iopub.status.idle": "2024-11-20T03:38:17.870354Z",
     "shell.execute_reply": "2024-11-20T03:38:17.869224Z",
     "shell.execute_reply.started": "2024-11-20T03:38:14.367357Z"
    },
    "trusted": true
   },
   "outputs": [
    {
     "data": {
      "application/vnd.jupyter.widget-view+json": {
       "model_id": "edf81b85ff5645968096799029741c3c",
       "version_major": 2,
       "version_minor": 0
      },
      "text/plain": [
       "model.safetensors:   0%|          | 0.00/346M [00:00<?, ?B/s]"
      ]
     },
     "metadata": {},
     "output_type": "display_data"
    }
   ],
   "source": [
    "# initialize model, loss function, and optimizer\n",
    "device = torch.device('cuda' if torch.cuda.is_available() else 'cpu')\n",
    "model = ViTModel(NUM_CLASSES).to(device)\n",
    "criterion = nn.CrossEntropyLoss()\n",
    "optimizer = optim.Adam(model.parameters(), lr=LR)"
   ]
  },
  {
   "cell_type": "code",
   "execution_count": 11,
   "metadata": {
    "execution": {
     "iopub.execute_input": "2024-11-19T22:34:18.518606Z",
     "iopub.status.busy": "2024-11-19T22:34:18.518197Z",
     "iopub.status.idle": "2024-11-20T03:14:03.136064Z",
     "shell.execute_reply": "2024-11-20T03:14:03.135078Z",
     "shell.execute_reply.started": "2024-11-19T22:34:18.518565Z"
    },
    "trusted": true
   },
   "outputs": [
    {
     "name": "stdout",
     "output_type": "stream",
     "text": [
      "Epoch 1/10, Batch 1/625, Loss: 2.6835\n",
      "Epoch [1/10] completed in 3.44 seconds\n",
      "Epoch 1/10, Batch 101/625, Loss: 0.0489\n",
      "Epoch [1/10] completed in 226.41 seconds\n",
      "Epoch 1/10, Batch 201/625, Loss: 0.1129\n",
      "Epoch [1/10] completed in 473.51 seconds\n",
      "Epoch 1/10, Batch 301/625, Loss: 0.1026\n",
      "Epoch [1/10] completed in 720.83 seconds\n",
      "Epoch 1/10, Batch 401/625, Loss: 0.1167\n",
      "Epoch [1/10] completed in 967.41 seconds\n",
      "Epoch 1/10, Batch 501/625, Loss: 0.0718\n",
      "Epoch [1/10] completed in 1214.40 seconds\n",
      "Epoch 1/10, Batch 601/625, Loss: 0.0873\n",
      "Epoch [1/10] completed in 1461.65 seconds\n",
      "\tEpoch [1/10], Train Loss: 0.1979, Validation Loss: 0.1462, Validation Accuracy: 95.23%\n",
      "Epoch 2/10, Batch 1/625, Loss: 0.1085\n",
      "Epoch [2/10] completed in 2.95 seconds\n",
      "Epoch 2/10, Batch 101/625, Loss: 0.2140\n",
      "Epoch [2/10] completed in 250.18 seconds\n",
      "Epoch 2/10, Batch 201/625, Loss: 0.1717\n",
      "Epoch [2/10] completed in 497.01 seconds\n",
      "Epoch 2/10, Batch 301/625, Loss: 0.0300\n",
      "Epoch [2/10] completed in 743.43 seconds\n",
      "Epoch 2/10, Batch 401/625, Loss: 0.0325\n",
      "Epoch [2/10] completed in 990.58 seconds\n",
      "Epoch 2/10, Batch 501/625, Loss: 0.2432\n",
      "Epoch [2/10] completed in 1237.85 seconds\n",
      "Epoch 2/10, Batch 601/625, Loss: 0.0246\n",
      "Epoch [2/10] completed in 1484.47 seconds\n",
      "\tEpoch [2/10], Train Loss: 0.1019, Validation Loss: 0.1302, Validation Accuracy: 95.94%\n",
      "Epoch 3/10, Batch 1/625, Loss: 0.0919\n",
      "Epoch [3/10] completed in 2.88 seconds\n",
      "Epoch 3/10, Batch 101/625, Loss: 0.1035\n",
      "Epoch [3/10] completed in 249.65 seconds\n",
      "Epoch 3/10, Batch 201/625, Loss: 0.1022\n",
      "Epoch [3/10] completed in 496.30 seconds\n",
      "Epoch 3/10, Batch 301/625, Loss: 0.0114\n",
      "Epoch [3/10] completed in 743.12 seconds\n",
      "Epoch 3/10, Batch 401/625, Loss: 0.0474\n",
      "Epoch [3/10] completed in 990.13 seconds\n",
      "Epoch 3/10, Batch 501/625, Loss: 0.0595\n",
      "Epoch [3/10] completed in 1237.14 seconds\n",
      "Epoch 3/10, Batch 601/625, Loss: 0.0057\n",
      "Epoch [3/10] completed in 1483.71 seconds\n",
      "\tEpoch [3/10], Train Loss: 0.0819, Validation Loss: 0.1810, Validation Accuracy: 94.71%\n",
      "Epoch 4/10, Batch 1/625, Loss: 0.0992\n",
      "Epoch [4/10] completed in 2.85 seconds\n",
      "Epoch 4/10, Batch 101/625, Loss: 0.0709\n",
      "Epoch [4/10] completed in 249.88 seconds\n",
      "Epoch 4/10, Batch 201/625, Loss: 0.0815\n",
      "Epoch [4/10] completed in 496.72 seconds\n",
      "Epoch 4/10, Batch 301/625, Loss: 0.0799\n",
      "Epoch [4/10] completed in 743.37 seconds\n",
      "Epoch 4/10, Batch 401/625, Loss: 0.0277\n",
      "Epoch [4/10] completed in 990.31 seconds\n",
      "Epoch 4/10, Batch 501/625, Loss: 0.0348\n",
      "Epoch [4/10] completed in 1237.49 seconds\n",
      "Epoch 4/10, Batch 601/625, Loss: 0.0151\n",
      "Epoch [4/10] completed in 1484.52 seconds\n",
      "\tEpoch [4/10], Train Loss: 0.0710, Validation Loss: 0.1769, Validation Accuracy: 95.05%\n",
      "Epoch 5/10, Batch 1/625, Loss: 0.0181\n",
      "Epoch [5/10] completed in 2.93 seconds\n",
      "Epoch 5/10, Batch 101/625, Loss: 0.0059\n",
      "Epoch [5/10] completed in 249.74 seconds\n",
      "Epoch 5/10, Batch 201/625, Loss: 0.0414\n",
      "Epoch [5/10] completed in 497.11 seconds\n",
      "Epoch 5/10, Batch 301/625, Loss: 0.0406\n",
      "Epoch [5/10] completed in 743.97 seconds\n",
      "Epoch 5/10, Batch 401/625, Loss: 0.0310\n",
      "Epoch [5/10] completed in 990.57 seconds\n",
      "Epoch 5/10, Batch 501/625, Loss: 0.0691\n",
      "Epoch [5/10] completed in 1237.15 seconds\n",
      "Epoch 5/10, Batch 601/625, Loss: 0.0949\n",
      "Epoch [5/10] completed in 1483.94 seconds\n",
      "\tEpoch [5/10], Train Loss: 0.0634, Validation Loss: 0.1629, Validation Accuracy: 94.89%\n",
      "Epoch 6/10, Batch 1/625, Loss: 0.0759\n",
      "Epoch [6/10] completed in 2.94 seconds\n",
      "Epoch 6/10, Batch 101/625, Loss: 0.1046\n",
      "Epoch [6/10] completed in 249.55 seconds\n",
      "Epoch 6/10, Batch 201/625, Loss: 0.0513\n",
      "Epoch [6/10] completed in 495.75 seconds\n",
      "Epoch 6/10, Batch 301/625, Loss: 0.0645\n",
      "Epoch [6/10] completed in 742.88 seconds\n",
      "Epoch 6/10, Batch 401/625, Loss: 0.0135\n",
      "Epoch [6/10] completed in 989.43 seconds\n",
      "Epoch 6/10, Batch 501/625, Loss: 0.0045\n",
      "Epoch [6/10] completed in 1236.21 seconds\n",
      "Epoch 6/10, Batch 601/625, Loss: 0.0469\n",
      "Epoch [6/10] completed in 1483.09 seconds\n",
      "\tEpoch [6/10], Train Loss: 0.0486, Validation Loss: 0.1579, Validation Accuracy: 95.48%\n",
      "Epoch 7/10, Batch 1/625, Loss: 0.1120\n",
      "Epoch [7/10] completed in 2.85 seconds\n",
      "Epoch 7/10, Batch 101/625, Loss: 0.0228\n",
      "Epoch [7/10] completed in 249.25 seconds\n",
      "Epoch 7/10, Batch 201/625, Loss: 0.0165\n",
      "Epoch [7/10] completed in 495.84 seconds\n",
      "Epoch 7/10, Batch 301/625, Loss: 0.0287\n",
      "Epoch [7/10] completed in 742.46 seconds\n",
      "Epoch 7/10, Batch 401/625, Loss: 0.0120\n",
      "Epoch [7/10] completed in 988.93 seconds\n",
      "Epoch 7/10, Batch 501/625, Loss: 0.0612\n",
      "Epoch [7/10] completed in 1235.23 seconds\n",
      "Epoch 7/10, Batch 601/625, Loss: 0.0814\n",
      "Epoch [7/10] completed in 1481.74 seconds\n",
      "\tEpoch [7/10], Train Loss: 0.0535, Validation Loss: 0.1818, Validation Accuracy: 94.67%\n",
      "Epoch 8/10, Batch 1/625, Loss: 0.0600\n",
      "Epoch [8/10] completed in 2.91 seconds\n",
      "Epoch 8/10, Batch 101/625, Loss: 0.0932\n",
      "Epoch [8/10] completed in 248.71 seconds\n",
      "Epoch 8/10, Batch 201/625, Loss: 0.0788\n",
      "Epoch [8/10] completed in 495.38 seconds\n",
      "Epoch 8/10, Batch 301/625, Loss: 0.0145\n",
      "Epoch [8/10] completed in 741.07 seconds\n",
      "Epoch 8/10, Batch 401/625, Loss: 0.0489\n",
      "Epoch [8/10] completed in 988.61 seconds\n",
      "Epoch 8/10, Batch 501/625, Loss: 0.1429\n",
      "Epoch [8/10] completed in 1235.57 seconds\n",
      "Epoch 8/10, Batch 601/625, Loss: 0.0661\n",
      "Epoch [8/10] completed in 1482.37 seconds\n",
      "\tEpoch [8/10], Train Loss: 0.0477, Validation Loss: 0.1831, Validation Accuracy: 94.92%\n",
      "Epoch 9/10, Batch 1/625, Loss: 0.0258\n",
      "Epoch [9/10] completed in 2.83 seconds\n",
      "Epoch 9/10, Batch 101/625, Loss: 0.0318\n",
      "Epoch [9/10] completed in 249.79 seconds\n",
      "Epoch 9/10, Batch 201/625, Loss: 0.0037\n",
      "Epoch [9/10] completed in 496.25 seconds\n",
      "Epoch 9/10, Batch 301/625, Loss: 0.0363\n",
      "Epoch [9/10] completed in 742.83 seconds\n",
      "Epoch 9/10, Batch 401/625, Loss: 0.0015\n",
      "Epoch [9/10] completed in 989.56 seconds\n",
      "Epoch 9/10, Batch 501/625, Loss: 0.0112\n",
      "Epoch [9/10] completed in 1235.53 seconds\n",
      "Epoch 9/10, Batch 601/625, Loss: 0.0019\n",
      "Epoch [9/10] completed in 1482.60 seconds\n",
      "\tEpoch [9/10], Train Loss: 0.0419, Validation Loss: 0.2273, Validation Accuracy: 93.96%\n",
      "Epoch 10/10, Batch 1/625, Loss: 0.0345\n",
      "Epoch [10/10] completed in 3.03 seconds\n",
      "Epoch 10/10, Batch 101/625, Loss: 0.0009\n",
      "Epoch [10/10] completed in 250.05 seconds\n",
      "Epoch 10/10, Batch 201/625, Loss: 0.0127\n",
      "Epoch [10/10] completed in 496.99 seconds\n",
      "Epoch 10/10, Batch 301/625, Loss: 0.0091\n",
      "Epoch [10/10] completed in 743.72 seconds\n",
      "Epoch 10/10, Batch 401/625, Loss: 0.1129\n",
      "Epoch [10/10] completed in 990.40 seconds\n",
      "Epoch 10/10, Batch 501/625, Loss: 0.0209\n",
      "Epoch [10/10] completed in 1236.49 seconds\n",
      "Epoch 10/10, Batch 601/625, Loss: 0.0320\n",
      "Epoch [10/10] completed in 1483.06 seconds\n",
      "\tEpoch [10/10], Train Loss: 0.0448, Validation Loss: 0.2330, Validation Accuracy: 93.39%\n"
     ]
    },
    {
     "data": {
      "image/png": "[encoded data removed]",
      "text/plain": [
       "<Figure size 1000x500 with 1 Axes>"
      ]
     },
     "metadata": {},
     "output_type": "display_data"
    },
    {
     "data": {
      "image/png": "[encoded data removed]",
      "text/plain": [
       "<Figure size 1000x500 with 1 Axes>"
      ]
     },
     "metadata": {},
     "output_type": "display_data"
    }
   ],
   "source": [
    "#training and validation loop\n",
    "train_losses = []\n",
    "val_losses = []\n",
    "val_accuracies = []\n",
    "log_interval = 100\n",
    "\n",
    "\n",
    "for epoch in range(N_EPOCHS):\n",
    "    model.train()\n",
    "    train_loss = 0.0\n",
    "    start_time = time.time()\n",
    "\n",
    "    for batch_idx, (inputs, labels) in enumerate(train_loader):  \n",
    "        inputs, labels = inputs.to(device), labels.to(device)\n",
    "        optimizer.zero_grad()\n",
    "        outputs = model(inputs)\n",
    "        loss = criterion(outputs, labels)\n",
    "        loss.backward()\n",
    "        optimizer.step()\n",
    "        train_loss += loss.item()\n",
    "\n",
    "        if batch_idx % log_interval == 0:\n",
    "            print(f'Epoch {epoch+1}/{N_EPOCHS}, Batch {batch_idx+1}/{len(train_loader)}, '\n",
    "                  f'Loss: {loss.item():.4f}')\n",
    "            epoch_duration = time.time() - start_time\n",
    "            print(f'Epoch [{epoch+1}/{N_EPOCHS}] completed in {epoch_duration:.2f} seconds')\n",
    "\n",
    "    train_losses.append(train_loss / len(train_loader))\n",
    "\n",
    "    model.eval()\n",
    "    val_loss = 0.0\n",
    "    correct = 0\n",
    "    total = 0\n",
    "    with torch.no_grad():\n",
    "        for inputs, labels in val_loader:\n",
    "            inputs, labels = inputs.to(device), labels.to(device)\n",
    "            outputs = model(inputs)\n",
    "            loss = criterion(outputs, labels)\n",
    "            val_loss += loss.item()\n",
    "            _, predicted = torch.max(outputs, 1)\n",
    "            total += labels.size(0)\n",
    "            correct += (predicted == labels).sum().item()\n",
    "\n",
    "    val_losses.append(val_loss / len(val_loader))\n",
    "    val_accuracies.append(correct / total)\n",
    "    \n",
    "    print(f'\\tEpoch [{epoch+1}/{N_EPOCHS}], '\n",
    "          f'Train Loss: {train_losses[-1]:.4f}, '\n",
    "          f'Validation Loss: {val_losses[-1]:.4f}, '\n",
    "          f'Validation Accuracy: {val_accuracies[-1]*100:.2f}%')\n",
    "\n",
    "#save model\n",
    "torch.save(model.state_dict(), 'vit_cifar10.pth')\n",
    "\n",
    "  # Plot training and validation loss\n",
    "plt.figure(figsize=(10, 5))\n",
    "plt.plot(range(1, N_EPOCHS + 1), train_losses, label='Train Loss')\n",
    "plt.plot(range(1, N_EPOCHS + 1), val_losses, label='Validation Loss')\n",
    "plt.xlabel('Epoch')\n",
    "plt.ylabel('Loss')\n",
    "plt.title('Training and Validation Loss')\n",
    "plt.legend()\n",
    "plt.grid(True)\n",
    "plt.show()\n",
    "\n",
    "# Plot validation accuracy\n",
    "plt.figure(figsize=(10, 5))\n",
    "plt.plot(range(1, N_EPOCHS + 1), val_accuracies, label='Validation Accuracy')\n",
    "plt.xlabel('Epoch')\n",
    "plt.ylabel('Accuracy')\n",
    "plt.title('Validation Accuracy over Epochs')\n",
    "plt.legend()\n",
    "plt.grid(True)\n",
    "plt.show()"
   ]
  },
  {
   "cell_type": "code",
   "execution_count": 7,
   "metadata": {
    "execution": {
     "iopub.execute_input": "2024-11-20T03:33:11.742483Z",
     "iopub.status.busy": "2024-11-20T03:33:11.741679Z",
     "iopub.status.idle": "2024-11-20T03:33:11.747996Z",
     "shell.execute_reply": "2024-11-20T03:33:11.746708Z",
     "shell.execute_reply.started": "2024-11-20T03:33:11.742440Z"
    },
    "trusted": true
   },
   "outputs": [
    {
     "name": "stdout",
     "output_type": "stream",
     "text": [
      "/kaggle/working\n"
     ]
    }
   ],
   "source": [
    "import os\n",
    "print(os.getcwd())"
   ]
  },
  {
   "cell_type": "code",
   "execution_count": 8,
   "metadata": {
    "execution": {
     "iopub.execute_input": "2024-11-20T03:33:31.825911Z",
     "iopub.status.busy": "2024-11-20T03:33:31.825496Z",
     "iopub.status.idle": "2024-11-20T03:33:31.832352Z",
     "shell.execute_reply": "2024-11-20T03:33:31.830885Z",
     "shell.execute_reply.started": "2024-11-20T03:33:31.825875Z"
    },
    "trusted": true
   },
   "outputs": [
    {
     "name": "stdout",
     "output_type": "stream",
     "text": [
      "['.virtual_documents']\n"
     ]
    }
   ],
   "source": [
    "print(os.listdir('/kaggle/working'))"
   ]
  },
  {
   "cell_type": "code",
   "execution_count": 9,
   "metadata": {
    "execution": {
     "iopub.execute_input": "2024-11-20T03:36:23.172432Z",
     "iopub.status.busy": "2024-11-20T03:36:23.172059Z",
     "iopub.status.idle": "2024-11-20T03:37:11.338037Z",
     "shell.execute_reply": "2024-11-20T03:37:11.336403Z",
     "shell.execute_reply.started": "2024-11-20T03:36:23.172403Z"
    },
    "trusted": true
   },
   "outputs": [],
   "source": [
    "!find / -name \"vit_cifar10.pth\" 2>/dev/null"
   ]
  },
  {
   "cell_type": "code",
   "execution_count": 21,
   "metadata": {
    "execution": {
     "iopub.execute_input": "2024-11-20T03:38:23.675891Z",
     "iopub.status.busy": "2024-11-20T03:38:23.675374Z",
     "iopub.status.idle": "2024-11-20T03:38:23.684125Z",
     "shell.execute_reply": "2024-11-20T03:38:23.682687Z",
     "shell.execute_reply.started": "2024-11-20T03:38:23.675821Z"
    },
    "trusted": true
   },
   "outputs": [
    {
     "name": "stdout",
     "output_type": "stream",
     "text": [
      "ViTModel(\n",
      "  (model): VisionTransformer(\n",
      "    (patch_embed): PatchEmbed(\n",
      "      (proj): Conv2d(3, 768, kernel_size=(16, 16), stride=(16, 16))\n",
      "      (norm): Identity()\n",
      "    )\n",
      "    (pos_drop): Dropout(p=0.0, inplace=False)\n",
      "    (patch_drop): Identity()\n",
      "    (norm_pre): Identity()\n",
      "    (blocks): Sequential(\n",
      "      (0): Block(\n",
      "        (norm1): LayerNorm((768,), eps=1e-06, elementwise_affine=True)\n",
      "        (attn): Attention(\n",
      "          (qkv): Linear(in_features=768, out_features=2304, bias=True)\n",
      "          (q_norm): Identity()\n",
      "          (k_norm): Identity()\n",
      "          (attn_drop): Dropout(p=0.0, inplace=False)\n",
      "          (proj): Linear(in_features=768, out_features=768, bias=True)\n",
      "          (proj_drop): Dropout(p=0.0, inplace=False)\n",
      "        )\n",
      "        (ls1): Identity()\n",
      "        (drop_path1): Identity()\n",
      "        (norm2): LayerNorm((768,), eps=1e-06, elementwise_affine=True)\n",
      "        (mlp): Mlp(\n",
      "          (fc1): Linear(in_features=768, out_features=3072, bias=True)\n",
      "          (act): GELU(approximate='none')\n",
      "          (drop1): Dropout(p=0.0, inplace=False)\n",
      "          (norm): Identity()\n",
      "          (fc2): Linear(in_features=3072, out_features=768, bias=True)\n",
      "          (drop2): Dropout(p=0.0, inplace=False)\n",
      "        )\n",
      "        (ls2): Identity()\n",
      "        (drop_path2): Identity()\n",
      "      )\n",
      "      (1): Block(\n",
      "        (norm1): LayerNorm((768,), eps=1e-06, elementwise_affine=True)\n",
      "        (attn): Attention(\n",
      "          (qkv): Linear(in_features=768, out_features=2304, bias=True)\n",
      "          (q_norm): Identity()\n",
      "          (k_norm): Identity()\n",
      "          (attn_drop): Dropout(p=0.0, inplace=False)\n",
      "          (proj): Linear(in_features=768, out_features=768, bias=True)\n",
      "          (proj_drop): Dropout(p=0.0, inplace=False)\n",
      "        )\n",
      "        (ls1): Identity()\n",
      "        (drop_path1): Identity()\n",
      "        (norm2): LayerNorm((768,), eps=1e-06, elementwise_affine=True)\n",
      "        (mlp): Mlp(\n",
      "          (fc1): Linear(in_features=768, out_features=3072, bias=True)\n",
      "          (act): GELU(approximate='none')\n",
      "          (drop1): Dropout(p=0.0, inplace=False)\n",
      "          (norm): Identity()\n",
      "          (fc2): Linear(in_features=3072, out_features=768, bias=True)\n",
      "          (drop2): Dropout(p=0.0, inplace=False)\n",
      "        )\n",
      "        (ls2): Identity()\n",
      "        (drop_path2): Identity()\n",
      "      )\n",
      "      (2): Block(\n",
      "        (norm1): LayerNorm((768,), eps=1e-06, elementwise_affine=True)\n",
      "        (attn): Attention(\n",
      "          (qkv): Linear(in_features=768, out_features=2304, bias=True)\n",
      "          (q_norm): Identity()\n",
      "          (k_norm): Identity()\n",
      "          (attn_drop): Dropout(p=0.0, inplace=False)\n",
      "          (proj): Linear(in_features=768, out_features=768, bias=True)\n",
      "          (proj_drop): Dropout(p=0.0, inplace=False)\n",
      "        )\n",
      "        (ls1): Identity()\n",
      "        (drop_path1): Identity()\n",
      "        (norm2): LayerNorm((768,), eps=1e-06, elementwise_affine=True)\n",
      "        (mlp): Mlp(\n",
      "          (fc1): Linear(in_features=768, out_features=3072, bias=True)\n",
      "          (act): GELU(approximate='none')\n",
      "          (drop1): Dropout(p=0.0, inplace=False)\n",
      "          (norm): Identity()\n",
      "          (fc2): Linear(in_features=3072, out_features=768, bias=True)\n",
      "          (drop2): Dropout(p=0.0, inplace=False)\n",
      "        )\n",
      "        (ls2): Identity()\n",
      "        (drop_path2): Identity()\n",
      "      )\n",
      "      (3): Block(\n",
      "        (norm1): LayerNorm((768,), eps=1e-06, elementwise_affine=True)\n",
      "        (attn): Attention(\n",
      "          (qkv): Linear(in_features=768, out_features=2304, bias=True)\n",
      "          (q_norm): Identity()\n",
      "          (k_norm): Identity()\n",
      "          (attn_drop): Dropout(p=0.0, inplace=False)\n",
      "          (proj): Linear(in_features=768, out_features=768, bias=True)\n",
      "          (proj_drop): Dropout(p=0.0, inplace=False)\n",
      "        )\n",
      "        (ls1): Identity()\n",
      "        (drop_path1): Identity()\n",
      "        (norm2): LayerNorm((768,), eps=1e-06, elementwise_affine=True)\n",
      "        (mlp): Mlp(\n",
      "          (fc1): Linear(in_features=768, out_features=3072, bias=True)\n",
      "          (act): GELU(approximate='none')\n",
      "          (drop1): Dropout(p=0.0, inplace=False)\n",
      "          (norm): Identity()\n",
      "          (fc2): Linear(in_features=3072, out_features=768, bias=True)\n",
      "          (drop2): Dropout(p=0.0, inplace=False)\n",
      "        )\n",
      "        (ls2): Identity()\n",
      "        (drop_path2): Identity()\n",
      "      )\n",
      "      (4): Block(\n",
      "        (norm1): LayerNorm((768,), eps=1e-06, elementwise_affine=True)\n",
      "        (attn): Attention(\n",
      "          (qkv): Linear(in_features=768, out_features=2304, bias=True)\n",
      "          (q_norm): Identity()\n",
      "          (k_norm): Identity()\n",
      "          (attn_drop): Dropout(p=0.0, inplace=False)\n",
      "          (proj): Linear(in_features=768, out_features=768, bias=True)\n",
      "          (proj_drop): Dropout(p=0.0, inplace=False)\n",
      "        )\n",
      "        (ls1): Identity()\n",
      "        (drop_path1): Identity()\n",
      "        (norm2): LayerNorm((768,), eps=1e-06, elementwise_affine=True)\n",
      "        (mlp): Mlp(\n",
      "          (fc1): Linear(in_features=768, out_features=3072, bias=True)\n",
      "          (act): GELU(approximate='none')\n",
      "          (drop1): Dropout(p=0.0, inplace=False)\n",
      "          (norm): Identity()\n",
      "          (fc2): Linear(in_features=3072, out_features=768, bias=True)\n",
      "          (drop2): Dropout(p=0.0, inplace=False)\n",
      "        )\n",
      "        (ls2): Identity()\n",
      "        (drop_path2): Identity()\n",
      "      )\n",
      "      (5): Block(\n",
      "        (norm1): LayerNorm((768,), eps=1e-06, elementwise_affine=True)\n",
      "        (attn): Attention(\n",
      "          (qkv): Linear(in_features=768, out_features=2304, bias=True)\n",
      "          (q_norm): Identity()\n",
      "          (k_norm): Identity()\n",
      "          (attn_drop): Dropout(p=0.0, inplace=False)\n",
      "          (proj): Linear(in_features=768, out_features=768, bias=True)\n",
      "          (proj_drop): Dropout(p=0.0, inplace=False)\n",
      "        )\n",
      "        (ls1): Identity()\n",
      "        (drop_path1): Identity()\n",
      "        (norm2): LayerNorm((768,), eps=1e-06, elementwise_affine=True)\n",
      "        (mlp): Mlp(\n",
      "          (fc1): Linear(in_features=768, out_features=3072, bias=True)\n",
      "          (act): GELU(approximate='none')\n",
      "          (drop1): Dropout(p=0.0, inplace=False)\n",
      "          (norm): Identity()\n",
      "          (fc2): Linear(in_features=3072, out_features=768, bias=True)\n",
      "          (drop2): Dropout(p=0.0, inplace=False)\n",
      "        )\n",
      "        (ls2): Identity()\n",
      "        (drop_path2): Identity()\n",
      "      )\n",
      "      (6): Block(\n",
      "        (norm1): LayerNorm((768,), eps=1e-06, elementwise_affine=True)\n",
      "        (attn): Attention(\n",
      "          (qkv): Linear(in_features=768, out_features=2304, bias=True)\n",
      "          (q_norm): Identity()\n",
      "          (k_norm): Identity()\n",
      "          (attn_drop): Dropout(p=0.0, inplace=False)\n",
      "          (proj): Linear(in_features=768, out_features=768, bias=True)\n",
      "          (proj_drop): Dropout(p=0.0, inplace=False)\n",
      "        )\n",
      "        (ls1): Identity()\n",
      "        (drop_path1): Identity()\n",
      "        (norm2): LayerNorm((768,), eps=1e-06, elementwise_affine=True)\n",
      "        (mlp): Mlp(\n",
      "          (fc1): Linear(in_features=768, out_features=3072, bias=True)\n",
      "          (act): GELU(approximate='none')\n",
      "          (drop1): Dropout(p=0.0, inplace=False)\n",
      "          (norm): Identity()\n",
      "          (fc2): Linear(in_features=3072, out_features=768, bias=True)\n",
      "          (drop2): Dropout(p=0.0, inplace=False)\n",
      "        )\n",
      "        (ls2): Identity()\n",
      "        (drop_path2): Identity()\n",
      "      )\n",
      "      (7): Block(\n",
      "        (norm1): LayerNorm((768,), eps=1e-06, elementwise_affine=True)\n",
      "        (attn): Attention(\n",
      "          (qkv): Linear(in_features=768, out_features=2304, bias=True)\n",
      "          (q_norm): Identity()\n",
      "          (k_norm): Identity()\n",
      "          (attn_drop): Dropout(p=0.0, inplace=False)\n",
      "          (proj): Linear(in_features=768, out_features=768, bias=True)\n",
      "          (proj_drop): Dropout(p=0.0, inplace=False)\n",
      "        )\n",
      "        (ls1): Identity()\n",
      "        (drop_path1): Identity()\n",
      "        (norm2): LayerNorm((768,), eps=1e-06, elementwise_affine=True)\n",
      "        (mlp): Mlp(\n",
      "          (fc1): Linear(in_features=768, out_features=3072, bias=True)\n",
      "          (act): GELU(approximate='none')\n",
      "          (drop1): Dropout(p=0.0, inplace=False)\n",
      "          (norm): Identity()\n",
      "          (fc2): Linear(in_features=3072, out_features=768, bias=True)\n",
      "          (drop2): Dropout(p=0.0, inplace=False)\n",
      "        )\n",
      "        (ls2): Identity()\n",
      "        (drop_path2): Identity()\n",
      "      )\n",
      "      (8): Block(\n",
      "        (norm1): LayerNorm((768,), eps=1e-06, elementwise_affine=True)\n",
      "        (attn): Attention(\n",
      "          (qkv): Linear(in_features=768, out_features=2304, bias=True)\n",
      "          (q_norm): Identity()\n",
      "          (k_norm): Identity()\n",
      "          (attn_drop): Dropout(p=0.0, inplace=False)\n",
      "          (proj): Linear(in_features=768, out_features=768, bias=True)\n",
      "          (proj_drop): Dropout(p=0.0, inplace=False)\n",
      "        )\n",
      "        (ls1): Identity()\n",
      "        (drop_path1): Identity()\n",
      "        (norm2): LayerNorm((768,), eps=1e-06, elementwise_affine=True)\n",
      "        (mlp): Mlp(\n",
      "          (fc1): Linear(in_features=768, out_features=3072, bias=True)\n",
      "          (act): GELU(approximate='none')\n",
      "          (drop1): Dropout(p=0.0, inplace=False)\n",
      "          (norm): Identity()\n",
      "          (fc2): Linear(in_features=3072, out_features=768, bias=True)\n",
      "          (drop2): Dropout(p=0.0, inplace=False)\n",
      "        )\n",
      "        (ls2): Identity()\n",
      "        (drop_path2): Identity()\n",
      "      )\n",
      "      (9): Block(\n",
      "        (norm1): LayerNorm((768,), eps=1e-06, elementwise_affine=True)\n",
      "        (attn): Attention(\n",
      "          (qkv): Linear(in_features=768, out_features=2304, bias=True)\n",
      "          (q_norm): Identity()\n",
      "          (k_norm): Identity()\n",
      "          (attn_drop): Dropout(p=0.0, inplace=False)\n",
      "          (proj): Linear(in_features=768, out_features=768, bias=True)\n",
      "          (proj_drop): Dropout(p=0.0, inplace=False)\n",
      "        )\n",
      "        (ls1): Identity()\n",
      "        (drop_path1): Identity()\n",
      "        (norm2): LayerNorm((768,), eps=1e-06, elementwise_affine=True)\n",
      "        (mlp): Mlp(\n",
      "          (fc1): Linear(in_features=768, out_features=3072, bias=True)\n",
      "          (act): GELU(approximate='none')\n",
      "          (drop1): Dropout(p=0.0, inplace=False)\n",
      "          (norm): Identity()\n",
      "          (fc2): Linear(in_features=3072, out_features=768, bias=True)\n",
      "          (drop2): Dropout(p=0.0, inplace=False)\n",
      "        )\n",
      "        (ls2): Identity()\n",
      "        (drop_path2): Identity()\n",
      "      )\n",
      "      (10): Block(\n",
      "        (norm1): LayerNorm((768,), eps=1e-06, elementwise_affine=True)\n",
      "        (attn): Attention(\n",
      "          (qkv): Linear(in_features=768, out_features=2304, bias=True)\n",
      "          (q_norm): Identity()\n",
      "          (k_norm): Identity()\n",
      "          (attn_drop): Dropout(p=0.0, inplace=False)\n",
      "          (proj): Linear(in_features=768, out_features=768, bias=True)\n",
      "          (proj_drop): Dropout(p=0.0, inplace=False)\n",
      "        )\n",
      "        (ls1): Identity()\n",
      "        (drop_path1): Identity()\n",
      "        (norm2): LayerNorm((768,), eps=1e-06, elementwise_affine=True)\n",
      "        (mlp): Mlp(\n",
      "          (fc1): Linear(in_features=768, out_features=3072, bias=True)\n",
      "          (act): GELU(approximate='none')\n",
      "          (drop1): Dropout(p=0.0, inplace=False)\n",
      "          (norm): Identity()\n",
      "          (fc2): Linear(in_features=3072, out_features=768, bias=True)\n",
      "          (drop2): Dropout(p=0.0, inplace=False)\n",
      "        )\n",
      "        (ls2): Identity()\n",
      "        (drop_path2): Identity()\n",
      "      )\n",
      "      (11): Block(\n",
      "        (norm1): LayerNorm((768,), eps=1e-06, elementwise_affine=True)\n",
      "        (attn): Attention(\n",
      "          (qkv): Linear(in_features=768, out_features=2304, bias=True)\n",
      "          (q_norm): Identity()\n",
      "          (k_norm): Identity()\n",
      "          (attn_drop): Dropout(p=0.0, inplace=False)\n",
      "          (proj): Linear(in_features=768, out_features=768, bias=True)\n",
      "          (proj_drop): Dropout(p=0.0, inplace=False)\n",
      "        )\n",
      "        (ls1): Identity()\n",
      "        (drop_path1): Identity()\n",
      "        (norm2): LayerNorm((768,), eps=1e-06, elementwise_affine=True)\n",
      "        (mlp): Mlp(\n",
      "          (fc1): Linear(in_features=768, out_features=3072, bias=True)\n",
      "          (act): GELU(approximate='none')\n",
      "          (drop1): Dropout(p=0.0, inplace=False)\n",
      "          (norm): Identity()\n",
      "          (fc2): Linear(in_features=3072, out_features=768, bias=True)\n",
      "          (drop2): Dropout(p=0.0, inplace=False)\n",
      "        )\n",
      "        (ls2): Identity()\n",
      "        (drop_path2): Identity()\n",
      "      )\n",
      "    )\n",
      "    (norm): LayerNorm((768,), eps=1e-06, elementwise_affine=True)\n",
      "    (fc_norm): Identity()\n",
      "    (head_drop): Dropout(p=0.0, inplace=False)\n",
      "    (head): Linear(in_features=768, out_features=10, bias=True)\n",
      "  )\n",
      ")\n"
     ]
    }
   ],
   "source": [
    "print(model)"
   ]
  },
  {
   "cell_type": "code",
   "execution_count": 22,
   "metadata": {
    "execution": {
     "iopub.execute_input": "2024-11-20T03:39:32.146045Z",
     "iopub.status.busy": "2024-11-20T03:39:32.145522Z",
     "iopub.status.idle": "2024-11-20T03:39:32.770308Z",
     "shell.execute_reply": "2024-11-20T03:39:32.769196Z",
     "shell.execute_reply.started": "2024-11-20T03:39:32.146003Z"
    },
    "trusted": true
   },
   "outputs": [
    {
     "name": "stdout",
     "output_type": "stream",
     "text": [
      "Model saved successfully.\n"
     ]
    }
   ],
   "source": [
    "torch.save(model.state_dict(), '/kaggle/working/vit_cifar10.pth')\n",
    "print(\"Model saved successfully.\")"
   ]
  },
  {
   "cell_type": "code",
   "execution_count": 23,
   "metadata": {
    "execution": {
     "iopub.execute_input": "2024-11-20T03:39:59.165795Z",
     "iopub.status.busy": "2024-11-20T03:39:59.165321Z",
     "iopub.status.idle": "2024-11-20T03:39:59.172944Z",
     "shell.execute_reply": "2024-11-20T03:39:59.171617Z",
     "shell.execute_reply.started": "2024-11-20T03:39:59.165758Z"
    },
    "trusted": true
   },
   "outputs": [
    {
     "name": "stdout",
     "output_type": "stream",
     "text": [
      "['.virtual_documents', 'vit_cifar10.pth', 'data']\n"
     ]
    }
   ],
   "source": [
    "print(os.listdir('/kaggle/working'))"
   ]
  },
  {
   "cell_type": "code",
   "execution_count": null,
   "metadata": {
    "trusted": true
   },
   "outputs": [],
   "source": []
  },
  {
   "cell_type": "code",
   "execution_count": 24,
   "metadata": {
    "execution": {
     "iopub.execute_input": "2024-11-20T03:51:44.077120Z",
     "iopub.status.busy": "2024-11-20T03:51:44.076624Z",
     "iopub.status.idle": "2024-11-20T03:51:44.975629Z",
     "shell.execute_reply": "2024-11-20T03:51:44.974761Z",
     "shell.execute_reply.started": "2024-11-20T03:51:44.077080Z"
    },
    "trusted": true
   },
   "outputs": [],
   "source": [
    "import zipfile\n",
    "\n",
    "# Create a Zip file containing the saved model\n",
    "with zipfile.ZipFile('/kaggle/working/vit_cifar10.zip', 'w') as zipf:\n",
    "    zipf.write('/kaggle/working/vit_cifar10.pth', arcname='vit_cifar10.pth')"
   ]
  },
  {
   "cell_type": "code",
   "execution_count": 28,
   "metadata": {
    "execution": {
     "iopub.execute_input": "2024-11-20T04:02:58.456437Z",
     "iopub.status.busy": "2024-11-20T04:02:58.455870Z",
     "iopub.status.idle": "2024-11-20T04:02:58.465281Z",
     "shell.execute_reply": "2024-11-20T04:02:58.464037Z",
     "shell.execute_reply.started": "2024-11-20T04:02:58.456391Z"
    },
    "trusted": true
   },
   "outputs": [
    {
     "data": {
      "text/html": [
       "<a href='/kaggle/working/vit_cifar10.pth' target='_blank'>/kaggle/working/vit_cifar10.pth</a><br>"
      ],
      "text/plain": [
       "/kaggle/working/vit_cifar10.pth"
      ]
     },
     "execution_count": 28,
     "metadata": {},
     "output_type": "execute_result"
    }
   ],
   "source": [
    "from IPython.display import FileLink\n",
    "\n",
    "# Create a link for your saved model file\n",
    "FileLink('/kaggle/working/vit_cifar10.pth')"
   ]
  },
  {
   "cell_type": "code",
   "execution_count": 30,
   "metadata": {
    "execution": {
     "iopub.execute_input": "2024-11-20T04:04:26.019973Z",
     "iopub.status.busy": "2024-11-20T04:04:26.018933Z",
     "iopub.status.idle": "2024-11-20T04:04:26.027495Z",
     "shell.execute_reply": "2024-11-20T04:04:26.026379Z",
     "shell.execute_reply.started": "2024-11-20T04:04:26.019925Z"
    },
    "trusted": true
   },
   "outputs": [
    {
     "data": {
      "text/html": [
       "<a href='/kaggle/working/vit_cifar10.pth' target='_blank'>/kaggle/working/vit_cifar10.pth</a><br>"
      ],
      "text/plain": [
       "/kaggle/working/vit_cifar10.pth"
      ]
     },
     "execution_count": 30,
     "metadata": {},
     "output_type": "execute_result"
    }
   ],
   "source": [
    "from IPython.display import FileLink\n",
    "\n",
    "# Create a link for your saved model file\n",
    "FileLink('/kaggle/working/vit_cifar10.pth')"
   ]
  },
  {
   "cell_type": "code",
   "execution_count": 31,
   "metadata": {
    "execution": {
     "iopub.execute_input": "2024-11-20T04:04:43.977664Z",
     "iopub.status.busy": "2024-11-20T04:04:43.977288Z",
     "iopub.status.idle": "2024-11-20T04:04:43.986561Z",
     "shell.execute_reply": "2024-11-20T04:04:43.985446Z",
     "shell.execute_reply.started": "2024-11-20T04:04:43.977631Z"
    },
    "trusted": true
   },
   "outputs": [
    {
     "data": {
      "text/html": [
       "/kaggle/working/<br>\n",
       "&nbsp;&nbsp;<a href='/kaggle/working/vit_cifar10.pth' target='_blank'>vit_cifar10.pth</a><br>\n",
       "&nbsp;&nbsp;<a href='/kaggle/working/vit_cifar10.zip' target='_blank'>vit_cifar10.zip</a><br>\n",
       "/kaggle/working/data/<br>\n",
       "&nbsp;&nbsp;<a href='/kaggle/working/data/cifar-10-python.tar.gz' target='_blank'>cifar-10-python.tar.gz</a><br>\n",
       "/kaggle/working/data/cifar-10-batches-py/<br>\n",
       "&nbsp;&nbsp;<a href='/kaggle/working/data/cifar-10-batches-py/batches.meta' target='_blank'>batches.meta</a><br>\n",
       "&nbsp;&nbsp;<a href='/kaggle/working/data/cifar-10-batches-py/data_batch_4' target='_blank'>data_batch_4</a><br>\n",
       "&nbsp;&nbsp;<a href='/kaggle/working/data/cifar-10-batches-py/data_batch_2' target='_blank'>data_batch_2</a><br>\n",
       "&nbsp;&nbsp;<a href='/kaggle/working/data/cifar-10-batches-py/readme.html' target='_blank'>readme.html</a><br>\n",
       "&nbsp;&nbsp;<a href='/kaggle/working/data/cifar-10-batches-py/data_batch_3' target='_blank'>data_batch_3</a><br>\n",
       "&nbsp;&nbsp;<a href='/kaggle/working/data/cifar-10-batches-py/data_batch_5' target='_blank'>data_batch_5</a><br>\n",
       "&nbsp;&nbsp;<a href='/kaggle/working/data/cifar-10-batches-py/data_batch_1' target='_blank'>data_batch_1</a><br>\n",
       "&nbsp;&nbsp;<a href='/kaggle/working/data/cifar-10-batches-py/test_batch' target='_blank'>test_batch</a><br>"
      ],
      "text/plain": [
       "/kaggle/working/\n",
       "  vit_cifar10.pth\n",
       "  vit_cifar10.zip\n",
       "/kaggle/working/data/\n",
       "  cifar-10-python.tar.gz\n",
       "/kaggle/working/data/cifar-10-batches-py/\n",
       "  batches.meta\n",
       "  data_batch_4\n",
       "  data_batch_2\n",
       "  readme.html\n",
       "  data_batch_3\n",
       "  data_batch_5\n",
       "  data_batch_1\n",
       "  test_batch"
      ]
     },
     "execution_count": 31,
     "metadata": {},
     "output_type": "execute_result"
    }
   ],
   "source": [
    "from IPython.display import FileLinks\n",
    "\n",
    "# Generate download links for all files in /kaggle/working/\n",
    "FileLinks('/kaggle/working')"
   ]
  }
 ],
 "metadata": {
  "kaggle": {
   "accelerator": "none",
   "dataSources": [],
   "dockerImageVersionId": 30786,
   "isGpuEnabled": false,
   "isInternetEnabled": true,
   "language": "python",
   "sourceType": "notebook"
  },
  "kernelspec": {
   "display_name": "Python 3",
   "language": "python",
   "name": "python3"
  },
  "language_info": {
   "codemirror_mode": {
    "name": "ipython",
    "version": 3
   },
   "file_extension": ".py",
   "mimetype": "text/x-python",
   "name": "python",
   "nbconvert_exporter": "python",
   "pygments_lexer": "ipython3",
   "version": "3.10.14"
  }
 },
 "nbformat": 4,
 "nbformat_minor": 4
}
