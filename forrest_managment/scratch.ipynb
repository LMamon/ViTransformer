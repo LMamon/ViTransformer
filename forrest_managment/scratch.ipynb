{
 "cells": [
  {
   "cell_type": "code",
   "execution_count": 279,
   "metadata": {},
   "outputs": [
    {
     "name": "stdout",
     "output_type": "stream",
     "text": [
      "Requirement already satisfied: pymdptoolbox in /Library/Frameworks/Python.framework/Versions/3.12/lib/python3.12/site-packages (4.0b3)\n",
      "Requirement already satisfied: numpy in /Library/Frameworks/Python.framework/Versions/3.12/lib/python3.12/site-packages (from pymdptoolbox) (1.26.4)\n",
      "Requirement already satisfied: scipy in /Library/Frameworks/Python.framework/Versions/3.12/lib/python3.12/site-packages (from pymdptoolbox) (1.14.1)\n",
      "Note: you may need to restart the kernel to use updated packages.\n"
     ]
    }
   ],
   "source": [
    "%pip install pymdptoolbox"
   ]
  },
  {
   "cell_type": "code",
   "execution_count": 280,
   "metadata": {},
   "outputs": [],
   "source": [
    "import mdptoolbox.mdp\n",
    "import mdptoolbox.example\n",
    "import numpy as np"
   ]
  },
  {
   "cell_type": "markdown",
   "metadata": {},
   "source": [
    "## Forest Management Example\n",
    "* Trees can be either young, middle-aged, or old (states = 0, 1, 2)\n",
    "* Each year, the trees get one stage older (S+1).\n",
    "* Each year, there is a 10% chance that the whole forest burns down!\n",
    "* If the forest burns down, you get nothing.\n",
    "* If you cut down the trees, you get 0 points for a young one, 1 point for a middle-aged one, and 2 points for an old one.\n",
    "* If the forest reaches its oldest state, and you do not cut, you will receive 4 points!\n",
    "\n",
    "What is the best strategy, given these facts?"
   ]
  },
  {
   "cell_type": "code",
   "execution_count": 281,
   "metadata": {},
   "outputs": [],
   "source": [
    "#inputs\n",
    "'''\n",
    "    S: number of states (3)\n",
    "    r1: reward received for 'waiting' from the oldest tree\n",
    "    r2: reward received for 'cutting' the oldest tree\n",
    "    p: probability of wildfire\n",
    "'''\n",
    "\n",
    "#output\n",
    "'''\n",
    "    P: transition probability matrix, array (A,S,S)\n",
    "        A: possible actions\n",
    "        S: possible states\n",
    "    R: reward matrix, array (S, A)\n",
    "'''\n",
    "\n",
    "P, R = mdptoolbox.example.forest(S=3, r1=4, r2=2, p=0.1)"
   ]
  },
  {
   "cell_type": "code",
   "execution_count": 282,
   "metadata": {},
   "outputs": [
    {
     "data": {
      "text/plain": [
       "array([[1., 0., 0.],\n",
       "       [1., 0., 0.],\n",
       "       [1., 0., 0.]])"
      ]
     },
     "execution_count": 282,
     "metadata": {},
     "output_type": "execute_result"
    }
   ],
   "source": [
    "P[0] #PTM if waiting\n",
    "P[1] #PTM if cutting"
   ]
  },
  {
   "cell_type": "code",
   "execution_count": 283,
   "metadata": {},
   "outputs": [
    {
     "data": {
      "text/plain": [
       "0.9"
      ]
     },
     "execution_count": 283,
     "metadata": {},
     "output_type": "execute_result"
    }
   ],
   "source": [
    "'''\n",
    "    ex: what is probability that a forrest in its youngest state\n",
    "    will advance to the next oldest if we wait?\n",
    "'''\n",
    "P[0][0][1]"
   ]
  },
  {
   "cell_type": "code",
   "execution_count": 284,
   "metadata": {},
   "outputs": [
    {
     "data": {
      "text/plain": [
       "0.1"
      ]
     },
     "execution_count": 284,
     "metadata": {},
     "output_type": "execute_result"
    }
   ],
   "source": [
    "'''\n",
    "ex: what is the probability that a forest in its oldest state\n",
    " will burn down, if we wait?\n",
    "'''\n",
    "P[0][2][0]"
   ]
  },
  {
   "cell_type": "code",
   "execution_count": 285,
   "metadata": {},
   "outputs": [
    {
     "data": {
      "text/plain": [
       "array([[0., 0.],\n",
       "       [0., 1.],\n",
       "       [4., 2.]])"
      ]
     },
     "execution_count": 285,
     "metadata": {},
     "output_type": "execute_result"
    }
   ],
   "source": [
    "#reward matrix has a shape  State[rows] x Action[columns] (S,A)\n",
    "R"
   ]
  },
  {
   "cell_type": "code",
   "execution_count": 286,
   "metadata": {},
   "outputs": [
    {
     "data": {
      "text/plain": [
       "4.0"
      ]
     },
     "execution_count": 286,
     "metadata": {},
     "output_type": "execute_result"
    }
   ],
   "source": [
    "#what record do we get if we choose to wait, and the forest is in its oldest state?\n",
    "rewards_vector = R.T[0]\n",
    "forrest_state = [0,0,1] #forrest is oldest in this current state\n",
    "np.multiply(rewards_vector, forrest_state).sum()\n",
    "\n"
   ]
  },
  {
   "cell_type": "code",
   "execution_count": 287,
   "metadata": {},
   "outputs": [
    {
     "name": "stdout",
     "output_type": "stream",
     "text": [
      "1.0\n",
      "0.0\n"
     ]
    }
   ],
   "source": [
    "#what reward do we get if we choose to wait, and the forest is in any other state?\n",
    "rewards_vector = R.T[1]\n",
    "forrest_state = [0,1,0] #forrest is oldest in this current state\n",
    "print(np.multiply(rewards_vector, forrest_state).sum())\n",
    "\n",
    "rewards_vector = R.T[1]\n",
    "forrest_state = [1,0,0] #forrest is youngest in this current state\n",
    "print(np.multiply(rewards_vector, forrest_state).sum())\n"
   ]
  },
  {
   "cell_type": "code",
   "execution_count": 288,
   "metadata": {},
   "outputs": [
    {
     "data": {
      "text/plain": [
       "(0, 1, 1)"
      ]
     },
     "execution_count": 288,
     "metadata": {},
     "output_type": "execute_result"
    }
   ],
   "source": [
    "#finding optimal policy, when  discount is significant\n",
    "model = mdptoolbox.mdp.QLearning(P, R, discount=0.1)\n",
    "model.run()\n",
    "model.policy"
   ]
  },
  {
   "cell_type": "code",
   "execution_count": 289,
   "metadata": {},
   "outputs": [
    {
     "data": {
      "text/plain": [
       "1"
      ]
     },
     "execution_count": 289,
     "metadata": {},
     "output_type": "execute_result"
    }
   ],
   "source": [
    "#should we wait or cut in the youngest state?\n",
    "model.policy[1]"
   ]
  },
  {
   "cell_type": "code",
   "execution_count": 290,
   "metadata": {},
   "outputs": [
    {
     "data": {
      "text/plain": [
       "1"
      ]
     },
     "execution_count": 290,
     "metadata": {},
     "output_type": "execute_result"
    }
   ],
   "source": [
    "#should we wait or cut in the youngest state?\n",
    "model.policy[2]"
   ]
  },
  {
   "cell_type": "code",
   "execution_count": 291,
   "metadata": {},
   "outputs": [
    {
     "data": {
      "text/plain": [
       "(0, 0, 0)"
      ]
     },
     "execution_count": 291,
     "metadata": {},
     "output_type": "execute_result"
    }
   ],
   "source": [
    "#what if policy is very likely to continue in the future?\n",
    "model = mdptoolbox.mdp.QLearning(P,R, discount=0.99)\n",
    "model.run()\n",
    "model.policy"
   ]
  },
  {
   "cell_type": "code",
   "execution_count": 292,
   "metadata": {},
   "outputs": [],
   "source": [
    "import numpy as np\n",
    "import matplotlib.pyplot as plt"
   ]
  },
  {
   "cell_type": "code",
   "execution_count": 293,
   "metadata": {},
   "outputs": [
    {
     "name": "stdout",
     "output_type": "stream",
     "text": [
      "slope:  -0.1157582504122276\n",
      "intercept:  21.072577712317127\n"
     ]
    },
    {
     "data": {
      "image/png": "[encoded data removed]",
      "text/plain": [
       "<Figure size 640x480 with 1 Axes>"
      ]
     },
     "metadata": {},
     "output_type": "display_data"
    }
   ],
   "source": [
    "#input dataset\n",
    "x = df['INDUS'].values\n",
    "y= df['MEDV'].values\n",
    "\n",
    "#mask out nan values\n",
    "nan_mask = ~np.isnan(x) & ~np.isnan(y)\n",
    "x = x[nan_mask]\n",
    "y = y[nan_mask]\n",
    "\n",
    "#calculate means\n",
    "x_mean = np.mean(x)\n",
    "y_mean = np.mean(y)\n",
    "\n",
    "#comput numerator and denominator for m\n",
    "numerator = np.sum((x - x_mean) *(y - y_mean))\n",
    "denominator = np.sum((x - x_mean) ** 2)\n",
    "\n",
    "#calculate slope (m) intercept (b)\n",
    "m = numerator / denominator\n",
    "b = y_mean - (m * x_mean)\n",
    "\n",
    "#display result\n",
    "print(\"slope: \", m)\n",
    "print(\"intercept: \", b)\n",
    "\n",
    "plt.scatter(x, y, color= 'blue')\n",
    "y_pred=  m * x+b\n",
    "plt.plot(x, y_pred, color='red')\n",
    "plt.show()"
   ]
  },
  {
   "cell_type": "code",
   "execution_count": 294,
   "metadata": {},
   "outputs": [
    {
     "name": "stdout",
     "output_type": "stream",
     "text": [
      "3.536778545307563 1.8806324854440761\n"
     ]
    }
   ],
   "source": [
    "mse = np.mean((y - y_pred)**2)\n",
    "rmse = np.sqrt(mse)\n",
    "\n",
    "print(mse, rmse)"
   ]
  },
  {
   "cell_type": "code",
   "execution_count": 295,
   "metadata": {},
   "outputs": [
    {
     "name": "stdout",
     "output_type": "stream",
     "text": [
      "0.2422107598008919\n"
     ]
    }
   ],
   "source": [
    "RSS = np.sum((y- y_pred) **2)\n",
    "TSS = np.sum((y-np.mean(y))**2)\n",
    "R2 = 1- (RSS/TSS)\n",
    "print(R2)"
   ]
  },
  {
   "cell_type": "code",
   "execution_count": 296,
   "metadata": {},
   "outputs": [
    {
     "name": "stdout",
     "output_type": "stream",
     "text": [
      "21043.63814971407\n"
     ]
    }
   ],
   "source": [
    "#in this town industrial land is 25% of total business land\n",
    "industrial_land = 0.25\n",
    "\n",
    "#what is median value of owner-occupied homes in this town?\n",
    "median_home_value = m * industrial_land +b\n",
    "print(median_home_value*1000)"
   ]
  },
  {
   "cell_type": "code",
   "execution_count": 297,
   "metadata": {},
   "outputs": [],
   "source": [
    "import pandas as pd\n",
    "from io import StringIO"
   ]
  },
  {
   "cell_type": "code",
   "execution_count": 298,
   "metadata": {},
   "outputs": [
    {
     "name": "stderr",
     "output_type": "stream",
     "text": [
      "/var/folders/qr/tq_ddlyx4778mx026msbqfsr0000gn/T/ipykernel_13793/996831989.py:17: FutureWarning: The 'delim_whitespace' keyword in pd.read_csv is deprecated and will be removed in a future version. Use ``sep='\\s+'`` instead\n",
      "  df = pd.read_csv(StringIO('\\n'.join(data_lines)),\n"
     ]
    }
   ],
   "source": [
    "#read file and skip first 21lines\n",
    "\n",
    "with open('boston.txt', 'r') as f:\n",
    "    lines = f.readlines()[21:]\n",
    "\n",
    "data_lines = []\n",
    "\n",
    "for i in range (0, len(lines), 2):\n",
    "    line1 = lines[i].strip()\n",
    "    line2 = lines[i+1].strip() if i+1 < len(lines) else ''\n",
    "    full_line = f\"{line1} {line2}\"\n",
    "    data_lines.append(full_line)\n",
    "\n",
    "column_names = ['CRIM', 'ZN', 'INDUS','CHAS', 'NOX', 'RM', 'AGE', 'DIS',\n",
    "          'RAD', 'TAX', 'PTRATIO', 'B', 'LSTAT', 'MEDV']\n",
    "\n",
    "df = pd.read_csv(StringIO('\\n'.join(data_lines)), \n",
    "                 delim_whitespace=True,\n",
    "                 names= column_names)\n"
   ]
  },
  {
   "cell_type": "code",
   "execution_count": 299,
   "metadata": {},
   "outputs": [
    {
     "data": {
      "text/plain": [
       "<Axes: >"
      ]
     },
     "execution_count": 299,
     "metadata": {},
     "output_type": "execute_result"
    },
    {
     "data": {
      "image/png": "[encoded data removed]",
      "text/plain": [
       "<Figure size 640x480 with 2 Axes>"
      ]
     },
     "metadata": {},
     "output_type": "display_data"
    }
   ],
   "source": [
    "import seaborn as sns\n",
    "corr_boston = np.power(df.corr(),2)\n",
    "sns.heatmap(corr_boston, annot=False, cmap= 'cividis', vmax= 0.3)"
   ]
  },
  {
   "cell_type": "code",
   "execution_count": 300,
   "metadata": {},
   "outputs": [
    {
     "data": {
      "text/plain": [
       "[<matplotlib.lines.Line2D at 0x3218827b0>]"
      ]
     },
     "execution_count": 300,
     "metadata": {},
     "output_type": "execute_result"
    },
    {
     "data": {
      "image/png": "[encoded data removed]",
      "text/plain": [
       "<Figure size 640x480 with 1 Axes>"
      ]
     },
     "metadata": {},
     "output_type": "display_data"
    }
   ],
   "source": [
    "plt.plot(df['INDUS'], df['MEDV'], 'o')"
   ]
  },
  {
   "cell_type": "code",
   "execution_count": null,
   "metadata": {},
   "outputs": [],
   "source": []
  }
 ],
 "metadata": {
  "kernelspec": {
   "display_name": "Python 3",
   "language": "python",
   "name": "python3"
  },
  "language_info": {
   "codemirror_mode": {
    "name": "ipython",
    "version": 3
   },
   "file_extension": ".py",
   "mimetype": "text/x-python",
   "name": "python",
   "nbconvert_exporter": "python",
   "pygments_lexer": "ipython3",
   "version": "3.12.3"
  }
 },
 "nbformat": 4,
 "nbformat_minor": 2
}
